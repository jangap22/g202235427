{
 "cells": [
  {
   "cell_type": "code",
   "execution_count": 1,
   "id": "076abcdd",
   "metadata": {
    "scrolled": true
   },
   "outputs": [
    {
     "data": {
      "text/plain": [
       "<matplotlib.image.AxesImage at 0x7f8dc1cb31f0>"
      ]
     },
     "execution_count": 1,
     "metadata": {},
     "output_type": "execute_result"
    },
    {
     "data": {
      "image/png": "[encoded data removed]",
      "text/plain": [
       "<Figure size 640x480 with 1 Axes>"
      ]
     },
     "metadata": {},
     "output_type": "display_data"
    }
   ],
   "source": [
    "import matplotlib.pyplot as plt\n",
    "import numpy as np\n",
    "from sklearn import datasets, metrics\n",
    "from sklearn.model_selection import train_test_split\n",
    "\n",
    "\n",
    "digits = datasets.load_digits()\n",
    "plt.imshow(digits.images[0], cmap=plt.cm.gray_r, interpolation='nearest')\n"
   ]
  },
  {
   "cell_type": "code",
   "execution_count": 2,
   "id": "1f76b912",
   "metadata": {},
   "outputs": [
    {
     "data": {
      "text/plain": [
       "{'data': array([[ 0.,  0.,  5., ...,  0.,  0.,  0.],\n",
       "        [ 0.,  0.,  0., ..., 10.,  0.,  0.],\n",
       "        [ 0.,  0.,  0., ..., 16.,  9.,  0.],\n",
       "        ...,\n",
       "        [ 0.,  0.,  1., ...,  6.,  0.,  0.],\n",
       "        [ 0.,  0.,  2., ..., 12.,  0.,  0.],\n",
       "        [ 0.,  0., 10., ..., 12.,  1.,  0.]]),\n",
       " 'target': array([0, 1, 2, ..., 8, 9, 8]),\n",
       " 'frame': None,\n",
       " 'feature_names': ['pixel_0_0',\n",
       "  'pixel_0_1',\n",
       "  'pixel_0_2',\n",
       "  'pixel_0_3',\n",
       "  'pixel_0_4',\n",
       "  'pixel_0_5',\n",
       "  'pixel_0_6',\n",
       "  'pixel_0_7',\n",
       "  'pixel_1_0',\n",
       "  'pixel_1_1',\n",
       "  'pixel_1_2',\n",
       "  'pixel_1_3',\n",
       "  'pixel_1_4',\n",
       "  'pixel_1_5',\n",
       "  'pixel_1_6',\n",
       "  'pixel_1_7',\n",
       "  'pixel_2_0',\n",
       "  'pixel_2_1',\n",
       "  'pixel_2_2',\n",
       "  'pixel_2_3',\n",
       "  'pixel_2_4',\n",
       "  'pixel_2_5',\n",
       "  'pixel_2_6',\n",
       "  'pixel_2_7',\n",
       "  'pixel_3_0',\n",
       "  'pixel_3_1',\n",
       "  'pixel_3_2',\n",
       "  'pixel_3_3',\n",
       "  'pixel_3_4',\n",
       "  'pixel_3_5',\n",
       "  'pixel_3_6',\n",
       "  'pixel_3_7',\n",
       "  'pixel_4_0',\n",
       "  'pixel_4_1',\n",
       "  'pixel_4_2',\n",
       "  'pixel_4_3',\n",
       "  'pixel_4_4',\n",
       "  'pixel_4_5',\n",
       "  'pixel_4_6',\n",
       "  'pixel_4_7',\n",
       "  'pixel_5_0',\n",
       "  'pixel_5_1',\n",
       "  'pixel_5_2',\n",
       "  'pixel_5_3',\n",
       "  'pixel_5_4',\n",
       "  'pixel_5_5',\n",
       "  'pixel_5_6',\n",
       "  'pixel_5_7',\n",
       "  'pixel_6_0',\n",
       "  'pixel_6_1',\n",
       "  'pixel_6_2',\n",
       "  'pixel_6_3',\n",
       "  'pixel_6_4',\n",
       "  'pixel_6_5',\n",
       "  'pixel_6_6',\n",
       "  'pixel_6_7',\n",
       "  'pixel_7_0',\n",
       "  'pixel_7_1',\n",
       "  'pixel_7_2',\n",
       "  'pixel_7_3',\n",
       "  'pixel_7_4',\n",
       "  'pixel_7_5',\n",
       "  'pixel_7_6',\n",
       "  'pixel_7_7'],\n",
       " 'target_names': array([0, 1, 2, 3, 4, 5, 6, 7, 8, 9]),\n",
       " 'images': array([[[ 0.,  0.,  5., ...,  1.,  0.,  0.],\n",
       "         [ 0.,  0., 13., ..., 15.,  5.,  0.],\n",
       "         [ 0.,  3., 15., ..., 11.,  8.,  0.],\n",
       "         ...,\n",
       "         [ 0.,  4., 11., ..., 12.,  7.,  0.],\n",
       "         [ 0.,  2., 14., ..., 12.,  0.,  0.],\n",
       "         [ 0.,  0.,  6., ...,  0.,  0.,  0.]],\n",
       " \n",
       "        [[ 0.,  0.,  0., ...,  5.,  0.,  0.],\n",
       "         [ 0.,  0.,  0., ...,  9.,  0.,  0.],\n",
       "         [ 0.,  0.,  3., ...,  6.,  0.,  0.],\n",
       "         ...,\n",
       "         [ 0.,  0.,  1., ...,  6.,  0.,  0.],\n",
       "         [ 0.,  0.,  1., ...,  6.,  0.,  0.],\n",
       "         [ 0.,  0.,  0., ..., 10.,  0.,  0.]],\n",
       " \n",
       "        [[ 0.,  0.,  0., ..., 12.,  0.,  0.],\n",
       "         [ 0.,  0.,  3., ..., 14.,  0.,  0.],\n",
       "         [ 0.,  0.,  8., ..., 16.,  0.,  0.],\n",
       "         ...,\n",
       "         [ 0.,  9., 16., ...,  0.,  0.,  0.],\n",
       "         [ 0.,  3., 13., ..., 11.,  5.,  0.],\n",
       "         [ 0.,  0.,  0., ..., 16.,  9.,  0.]],\n",
       " \n",
       "        ...,\n",
       " \n",
       "        [[ 0.,  0.,  1., ...,  1.,  0.,  0.],\n",
       "         [ 0.,  0., 13., ...,  2.,  1.,  0.],\n",
       "         [ 0.,  0., 16., ..., 16.,  5.,  0.],\n",
       "         ...,\n",
       "         [ 0.,  0., 16., ..., 15.,  0.,  0.],\n",
       "         [ 0.,  0., 15., ..., 16.,  0.,  0.],\n",
       "         [ 0.,  0.,  2., ...,  6.,  0.,  0.]],\n",
       " \n",
       "        [[ 0.,  0.,  2., ...,  0.,  0.,  0.],\n",
       "         [ 0.,  0., 14., ..., 15.,  1.,  0.],\n",
       "         [ 0.,  4., 16., ..., 16.,  7.,  0.],\n",
       "         ...,\n",
       "         [ 0.,  0.,  0., ..., 16.,  2.,  0.],\n",
       "         [ 0.,  0.,  4., ..., 16.,  2.,  0.],\n",
       "         [ 0.,  0.,  5., ..., 12.,  0.,  0.]],\n",
       " \n",
       "        [[ 0.,  0., 10., ...,  1.,  0.,  0.],\n",
       "         [ 0.,  2., 16., ...,  1.,  0.,  0.],\n",
       "         [ 0.,  0., 15., ..., 15.,  0.,  0.],\n",
       "         ...,\n",
       "         [ 0.,  4., 16., ..., 16.,  6.,  0.],\n",
       "         [ 0.,  8., 16., ..., 16.,  8.,  0.],\n",
       "         [ 0.,  1.,  8., ..., 12.,  1.,  0.]]]),\n",
       " 'DESCR': \".. _digits_dataset:\\n\\nOptical recognition of handwritten digits dataset\\n--------------------------------------------------\\n\\n**Data Set Characteristics:**\\n\\n    :Number of Instances: 1797\\n    :Number of Attributes: 64\\n    :Attribute Information: 8x8 image of integer pixels in the range 0..16.\\n    :Missing Attribute Values: None\\n    :Creator: E. Alpaydin (alpaydin '@' boun.edu.tr)\\n    :Date: July; 1998\\n\\nThis is a copy of the test set of the UCI ML hand-written digits datasets\\nhttps://archive.ics.uci.edu/ml/datasets/Optical+Recognition+of+Handwritten+Digits\\n\\nThe data set contains images of hand-written digits: 10 classes where\\neach class refers to a digit.\\n\\nPreprocessing programs made available by NIST were used to extract\\nnormalized bitmaps of handwritten digits from a preprinted form. From a\\ntotal of 43 people, 30 contributed to the training set and different 13\\nto the test set. 32x32 bitmaps are divided into nonoverlapping blocks of\\n4x4 and the number of on pixels are counted in each block. This generates\\nan input matrix of 8x8 where each element is an integer in the range\\n0..16. This reduces dimensionality and gives invariance to small\\ndistortions.\\n\\nFor info on NIST preprocessing routines, see M. D. Garris, J. L. Blue, G.\\nT. Candela, D. L. Dimmick, J. Geist, P. J. Grother, S. A. Janet, and C.\\nL. Wilson, NIST Form-Based Handprint Recognition System, NISTIR 5469,\\n1994.\\n\\n.. topic:: References\\n\\n  - C. Kaynak (1995) Methods of Combining Multiple Classifiers and Their\\n    Applications to Handwritten Digit Recognition, MSc Thesis, Institute of\\n    Graduate Studies in Science and Engineering, Bogazici University.\\n  - E. Alpaydin, C. Kaynak (1998) Cascading Classifiers, Kybernetika.\\n  - Ken Tang and Ponnuthurai N. Suganthan and Xi Yao and A. Kai Qin.\\n    Linear dimensionalityreduction using relevance weighted LDA. School of\\n    Electrical and Electronic Engineering Nanyang Technological University.\\n    2005.\\n  - Claudio Gentile. A New Approximate Maximal Margin Classification\\n    Algorithm. NIPS. 2000.\\n\"}"
      ]
     },
     "execution_count": 2,
     "metadata": {},
     "output_type": "execute_result"
    }
   ],
   "source": [
    "digits"
   ]
  },
  {
   "cell_type": "code",
   "execution_count": 3,
   "id": "8999c73c",
   "metadata": {},
   "outputs": [],
   "source": [
    "n_samples = len(digits.images)\n",
    "\n",
    "data = digits.images.reshape((n_samples, -1))\n",
    "\n",
    "# 이미지를 평판화 n x sample x 8 8 => n_sample x 64"
   ]
  },
  {
   "cell_type": "code",
   "execution_count": 4,
   "id": "55660cbe",
   "metadata": {},
   "outputs": [],
   "source": [
    "X_train, X_test, y_train, y_test = train_test_split(data, digits.target, test_size=0.2)"
   ]
  },
  {
   "cell_type": "code",
   "execution_count": 5,
   "id": "e4d3fb62",
   "metadata": {
    "scrolled": true
   },
   "outputs": [
    {
     "name": "stdout",
     "output_type": "stream",
     "text": [
      "X train : (1437, 64)\n",
      "y train : (1437,)\n",
      "X test : (360, 64)\n",
      "y test : (360,)\n"
     ]
    }
   ],
   "source": [
    "print(\"X train :\", X_train.shape)\n",
    "print(\"y train :\", y_train.shape)\n",
    "print(\"X test :\", X_test.shape)\n",
    "print(\"y test :\", y_test.shape)"
   ]
  },
  {
   "cell_type": "markdown",
   "id": "9133974b",
   "metadata": {},
   "source": [
    "ML"
   ]
  },
  {
   "cell_type": "code",
   "execution_count": 6,
   "id": "f8a222dc",
   "metadata": {},
   "outputs": [],
   "source": [
    "from sklearn.linear_model import LogisticRegression\n",
    "from sklearn.svm import SVC\n",
    "from sklearn.neural_network import MLPClassifier\n",
    "from sklearn.tree import DecisionTreeClassifier\n",
    "from sklearn.metrics import accuracy_score\n",
    "from sklearn.metrics import confusion_matrix"
   ]
  },
  {
   "cell_type": "code",
   "execution_count": 7,
   "id": "3643bf72",
   "metadata": {
    "scrolled": true
   },
   "outputs": [
    {
     "name": "stdout",
     "output_type": "stream",
     "text": [
      "\n",
      "--- Logistic Regression Classifier ---\n",
      "0.95\n",
      "[[34  0  0  0  0  0  0  0  0  0]\n",
      " [ 0 32  0  0  0  0  0  0  0  1]\n",
      " [ 0  1 36  0  0  0  0  0  0  0]\n",
      " [ 0  0  2 37  0  0  0  0  0  0]\n",
      " [ 0  0  0  0 34  0  0  0  0  0]\n",
      " [ 0  0  0  0  1 40  0  0  0  1]\n",
      " [ 0  0  0  0  1  2 31  0  0  0]\n",
      " [ 0  0  0  0  1  0  0 34  0  1]\n",
      " [ 0  4  1  0  0  1  0  0 32  0]\n",
      " [ 0  0  0  0  0  0  0  0  1 32]]\n"
     ]
    },
    {
     "name": "stderr",
     "output_type": "stream",
     "text": [
      "/Users/yes/opt/anaconda3/envs/aiclass/lib/python3.8/site-packages/sklearn/linear_model/_logistic.py:458: ConvergenceWarning: lbfgs failed to converge (status=1):\n",
      "STOP: TOTAL NO. of ITERATIONS REACHED LIMIT.\n",
      "\n",
      "Increase the number of iterations (max_iter) or scale the data as shown in:\n",
      "    https://scikit-learn.org/stable/modules/preprocessing.html\n",
      "Please also refer to the documentation for alternative solver options:\n",
      "    https://scikit-learn.org/stable/modules/linear_model.html#logistic-regression\n",
      "  n_iter_i = _check_optimize_result(\n"
     ]
    }
   ],
   "source": [
    "# Build a logistic regression classifier and predict\n",
    "\n",
    "clf_lr = LogisticRegression(random_state=0)\n",
    "clf_lr.fit(X_train, y_train)\n",
    "\n",
    "pred_lr = clf_lr.predict(X_test)\n",
    "\n",
    "print (\"\\n--- Logistic Regression Classifier ---\")\n",
    "print (accuracy_score(y_test, pred_lr))\n",
    "print (confusion_matrix(y_test, pred_lr))"
   ]
  },
  {
   "cell_type": "code",
   "execution_count": 8,
   "id": "ffac948d",
   "metadata": {
    "scrolled": true
   },
   "outputs": [
    {
     "name": "stdout",
     "output_type": "stream",
     "text": [
      "\n",
      "--- SVM Classifier ---\n",
      "0.9833333333333333\n",
      "[[34  0  0  0  0  0  0  0  0  0]\n",
      " [ 0 33  0  0  0  0  0  0  0  0]\n",
      " [ 0  0 37  0  0  0  0  0  0  0]\n",
      " [ 0  0  1 38  0  0  0  0  0  0]\n",
      " [ 0  0  0  0 34  0  0  0  0  0]\n",
      " [ 0  0  0  0  0 41  0  0  0  1]\n",
      " [ 0  0  0  0  0  1 33  0  0  0]\n",
      " [ 0  0  0  0  0  0  0 36  0  0]\n",
      " [ 0  3  0  0  0  0  0  0 35  0]\n",
      " [ 0  0  0  0  0  0  0  0  0 33]]\n"
     ]
    }
   ],
   "source": [
    "from sklearn.svm import SVC\n",
    "\n",
    "clf_svm = SVC(random_state=0)\n",
    "clf_svm.fit(X_train, y_train)\n",
    "\n",
    "pred_svm = clf_svm.predict(X_test)\n",
    "\n",
    "print(\"\\n--- SVM Classifier ---\")\n",
    "print(accuracy_score(y_test, pred_svm))\n",
    "print(confusion_matrix(y_test, pred_svm))"
   ]
  },
  {
   "cell_type": "code",
   "execution_count": 9,
   "id": "e3daf1f2",
   "metadata": {},
   "outputs": [
    {
     "name": "stdout",
     "output_type": "stream",
     "text": [
      "\n",
      "--- Radom Forest ---\n",
      "0.9805555555555555\n",
      "[[34  0  0  0  0  0  0  0  0  0]\n",
      " [ 0 33  0  0  0  0  0  0  0  0]\n",
      " [ 0  0 37  0  0  0  0  0  0  0]\n",
      " [ 0  0  0 38  0  0  0  0  1  0]\n",
      " [ 0  0  0  0 33  0  0  0  0  1]\n",
      " [ 0  0  0  0  0 41  0  0  0  1]\n",
      " [ 2  0  0  0  0  0 32  0  0  0]\n",
      " [ 0  0  0  0  0  0  0 36  0  0]\n",
      " [ 0  1  0  0  0  0  0  0 37  0]\n",
      " [ 0  0  0  1  0  0  0  0  0 32]]\n"
     ]
    }
   ],
   "source": [
    "from sklearn.ensemble import RandomForestClassifier\n",
    "\n",
    "print (\"\\n--- Radom Forest ---\")\n",
    "rf_clf = RandomForestClassifier(random_state=0)\n",
    "rf_clf.fit(X_train, y_train)\n",
    "pred = rf_clf.predict(X_test)\n",
    "print(accuracy_score(y_test,pred))\n",
    "print (confusion_matrix(y_test, pred))"
   ]
  },
  {
   "cell_type": "code",
   "execution_count": 10,
   "id": "c3fcfd02",
   "metadata": {
    "scrolled": true
   },
   "outputs": [
    {
     "name": "stdout",
     "output_type": "stream",
     "text": [
      "------DT--------\n",
      "Accuracy: 0.8333333333333334\n",
      "[[31  0  0  0  0  0  0  0  3  0]\n",
      " [ 0 24  3  2  0  0  1  1  0  2]\n",
      " [ 0  1 31  1  0  0  2  1  1  0]\n",
      " [ 0  1  3 29  0  0  0  0  3  3]\n",
      " [ 1  0  0  1 30  0  1  0  1  0]\n",
      " [ 0  0  1  0  1 37  0  0  1  2]\n",
      " [ 0  0  1  0  2  1 29  0  1  0]\n",
      " [ 1  0  1  1  1  0  0 30  1  1]\n",
      " [ 0  1  2  1  0  2  0  0 29  3]\n",
      " [ 0  0  1  1  0  1  0  0  0 30]]\n"
     ]
    }
   ],
   "source": [
    "print(\"------DT--------\")\n",
    "dt = DecisionTreeClassifier(random_state=42)\n",
    "dt.fit(X_train, y_train)\n",
    "y_pred = dt.predict(X_test)\n",
    "accuracy = accuracy_score(y_test, y_pred)\n",
    "print(f\"Accuracy: {accuracy}\")\n",
    "print(confusion_matrix(y_test, y_pred))"
   ]
  },
  {
   "cell_type": "code",
   "execution_count": 11,
   "id": "16cc0030",
   "metadata": {},
   "outputs": [],
   "source": [
    "from sklearn.neighbors import KNeighborsClassifier\n",
    "knn = KNeighborsClassifier(n_neighbors=6)"
   ]
  },
  {
   "cell_type": "code",
   "execution_count": 12,
   "id": "9195f734",
   "metadata": {},
   "outputs": [
    {
     "data": {
      "text/html": [
       "<style>#sk-container-id-1 {color: black;background-color: white;}#sk-container-id-1 pre{padding: 0;}#sk-container-id-1 div.sk-toggleable {background-color: white;}#sk-container-id-1 label.sk-toggleable__label {cursor: pointer;display: block;width: 100%;margin-bottom: 0;padding: 0.3em;box-sizing: border-box;text-align: center;}#sk-container-id-1 label.sk-toggleable__label-arrow:before {content: \"▸\";float: left;margin-right: 0.25em;color: #696969;}#sk-container-id-1 label.sk-toggleable__label-arrow:hover:before {color: black;}#sk-container-id-1 div.sk-estimator:hover label.sk-toggleable__label-arrow:before {color: black;}#sk-container-id-1 div.sk-toggleable__content {max-height: 0;max-width: 0;overflow: hidden;text-align: left;background-color: #f0f8ff;}#sk-container-id-1 div.sk-toggleable__content pre {margin: 0.2em;color: black;border-radius: 0.25em;background-color: #f0f8ff;}#sk-container-id-1 input.sk-toggleable__control:checked~div.sk-toggleable__content {max-height: 200px;max-width: 100%;overflow: auto;}#sk-container-id-1 input.sk-toggleable__control:checked~label.sk-toggleable__label-arrow:before {content: \"▾\";}#sk-container-id-1 div.sk-estimator input.sk-toggleable__control:checked~label.sk-toggleable__label {background-color: #d4ebff;}#sk-container-id-1 div.sk-label input.sk-toggleable__control:checked~label.sk-toggleable__label {background-color: #d4ebff;}#sk-container-id-1 input.sk-hidden--visually {border: 0;clip: rect(1px 1px 1px 1px);clip: rect(1px, 1px, 1px, 1px);height: 1px;margin: -1px;overflow: hidden;padding: 0;position: absolute;width: 1px;}#sk-container-id-1 div.sk-estimator {font-family: monospace;background-color: #f0f8ff;border: 1px dotted black;border-radius: 0.25em;box-sizing: border-box;margin-bottom: 0.5em;}#sk-container-id-1 div.sk-estimator:hover {background-color: #d4ebff;}#sk-container-id-1 div.sk-parallel-item::after {content: \"\";width: 100%;border-bottom: 1px solid gray;flex-grow: 1;}#sk-container-id-1 div.sk-label:hover label.sk-toggleable__label {background-color: #d4ebff;}#sk-container-id-1 div.sk-serial::before {content: \"\";position: absolute;border-left: 1px solid gray;box-sizing: border-box;top: 0;bottom: 0;left: 50%;z-index: 0;}#sk-container-id-1 div.sk-serial {display: flex;flex-direction: column;align-items: center;background-color: white;padding-right: 0.2em;padding-left: 0.2em;position: relative;}#sk-container-id-1 div.sk-item {position: relative;z-index: 1;}#sk-container-id-1 div.sk-parallel {display: flex;align-items: stretch;justify-content: center;background-color: white;position: relative;}#sk-container-id-1 div.sk-item::before, #sk-container-id-1 div.sk-parallel-item::before {content: \"\";position: absolute;border-left: 1px solid gray;box-sizing: border-box;top: 0;bottom: 0;left: 50%;z-index: -1;}#sk-container-id-1 div.sk-parallel-item {display: flex;flex-direction: column;z-index: 1;position: relative;background-color: white;}#sk-container-id-1 div.sk-parallel-item:first-child::after {align-self: flex-end;width: 50%;}#sk-container-id-1 div.sk-parallel-item:last-child::after {align-self: flex-start;width: 50%;}#sk-container-id-1 div.sk-parallel-item:only-child::after {width: 0;}#sk-container-id-1 div.sk-dashed-wrapped {border: 1px dashed gray;margin: 0 0.4em 0.5em 0.4em;box-sizing: border-box;padding-bottom: 0.4em;background-color: white;}#sk-container-id-1 div.sk-label label {font-family: monospace;font-weight: bold;display: inline-block;line-height: 1.2em;}#sk-container-id-1 div.sk-label-container {text-align: center;}#sk-container-id-1 div.sk-container {/* jupyter's `normalize.less` sets `[hidden] { display: none; }` but bootstrap.min.css set `[hidden] { display: none !important; }` so we also need the `!important` here to be able to override the default hidden behavior on the sphinx rendered scikit-learn.org. See: https://github.com/scikit-learn/scikit-learn/issues/21755 */display: inline-block !important;position: relative;}#sk-container-id-1 div.sk-text-repr-fallback {display: none;}</style><div id=\"sk-container-id-1\" class=\"sk-top-container\"><div class=\"sk-text-repr-fallback\"><pre>KNeighborsClassifier(n_neighbors=6)</pre><b>In a Jupyter environment, please rerun this cell to show the HTML representation or trust the notebook. <br />On GitHub, the HTML representation is unable to render, please try loading this page with nbviewer.org.</b></div><div class=\"sk-container\" hidden><div class=\"sk-item\"><div class=\"sk-estimator sk-toggleable\"><input class=\"sk-toggleable__control sk-hidden--visually\" id=\"sk-estimator-id-1\" type=\"checkbox\" checked><label for=\"sk-estimator-id-1\" class=\"sk-toggleable__label sk-toggleable__label-arrow\">KNeighborsClassifier</label><div class=\"sk-toggleable__content\"><pre>KNeighborsClassifier(n_neighbors=6)</pre></div></div></div></div></div>"
      ],
      "text/plain": [
       "KNeighborsClassifier(n_neighbors=6)"
      ]
     },
     "execution_count": 12,
     "metadata": {},
     "output_type": "execute_result"
    }
   ],
   "source": [
    "knn.fit(X_train, y_train)\n"
   ]
  },
  {
   "cell_type": "code",
   "execution_count": 13,
   "id": "39d0c716",
   "metadata": {},
   "outputs": [
    {
     "name": "stdout",
     "output_type": "stream",
     "text": [
      "0.9833333333333333\n"
     ]
    }
   ],
   "source": [
    "# 테스트 데이터로 예측해본다.\n",
    "\n",
    "y_pred = knn.predict(X_test)\n",
    "# 정확도를 계산한다.\n",
    "\n",
    "scores = metrics.accuracy_score(y_test, y_pred)\n",
    "print(scores)\n"
   ]
  },
  {
   "cell_type": "code",
   "execution_count": 14,
   "id": "5b9b508c",
   "metadata": {
    "scrolled": true
   },
   "outputs": [],
   "source": [
    "# disp = metrics.plot_confusion_matrix(knn, X_test, y_test)\n",
    "# plt.show()\n"
   ]
  },
  {
   "cell_type": "markdown",
   "id": "c9463344",
   "metadata": {},
   "source": [
    "DL"
   ]
  },
  {
   "cell_type": "code",
   "execution_count": 15,
   "id": "5966e8c4",
   "metadata": {},
   "outputs": [
    {
     "data": {
      "text/plain": [
       "(1437, 64)"
      ]
     },
     "execution_count": 15,
     "metadata": {},
     "output_type": "execute_result"
    }
   ],
   "source": [
    "X_train.shape"
   ]
  },
  {
   "cell_type": "code",
   "execution_count": 16,
   "id": "e3e5d081",
   "metadata": {},
   "outputs": [
    {
     "name": "stderr",
     "output_type": "stream",
     "text": [
      "2023-05-11 11:20:17.790559: I tensorflow/core/platform/cpu_feature_guard.cc:193] This TensorFlow binary is optimized with oneAPI Deep Neural Network Library (oneDNN) to use the following CPU instructions in performance-critical operations:  SSE4.1 SSE4.2\n",
      "To enable them in other operations, rebuild TensorFlow with the appropriate compiler flags.\n"
     ]
    }
   ],
   "source": [
    "from keras.utils import to_categorical\n",
    "\n",
    "# 입력 데이터 스케일링\n",
    "X_train = X_train / 255.0\n",
    "X_test = X_test / 255.0\n",
    "\n",
    "# 라벨 데이터 원-핫 인코딩\n",
    "y_train = to_categorical(y_train)\n",
    "y_test = to_categorical(y_test)"
   ]
  },
  {
   "cell_type": "code",
   "execution_count": 17,
   "id": "3618550b",
   "metadata": {},
   "outputs": [
    {
     "name": "stdout",
     "output_type": "stream",
     "text": [
      "Model: \"sequential\"\n",
      "_________________________________________________________________\n",
      " Layer (type)                Output Shape              Param #   \n",
      "=================================================================\n",
      " dense (Dense)               (None, 64)                4160      \n",
      "                                                                 \n",
      " dense_1 (Dense)             (None, 64)                4160      \n",
      "                                                                 \n",
      " dense_2 (Dense)             (None, 10)                650       \n",
      "                                                                 \n",
      "=================================================================\n",
      "Total params: 8,970\n",
      "Trainable params: 8,970\n",
      "Non-trainable params: 0\n",
      "_________________________________________________________________\n"
     ]
    },
    {
     "name": "stderr",
     "output_type": "stream",
     "text": [
      "2023-05-11 11:20:20.711012: I tensorflow/core/platform/cpu_feature_guard.cc:193] This TensorFlow binary is optimized with oneAPI Deep Neural Network Library (oneDNN) to use the following CPU instructions in performance-critical operations:  SSE4.1 SSE4.2\n",
      "To enable them in other operations, rebuild TensorFlow with the appropriate compiler flags.\n",
      "/Users/yes/opt/anaconda3/envs/aiclass/lib/python3.8/site-packages/keras/optimizers/optimizer_v2/adam.py:114: UserWarning: The `lr` argument is deprecated, use `learning_rate` instead.\n",
      "  super().__init__(name, **kwargs)\n"
     ]
    }
   ],
   "source": [
    "#Defining the model \n",
    "\n",
    "from keras.models import Sequential\n",
    "from keras.layers import Dense\n",
    "from keras.optimizers import SGD,Adam\n",
    "\n",
    "\n",
    "model = Sequential()\n",
    "\n",
    "model.add(Dense(64,input_shape=(64,),activation='relu'))\n",
    "model.add(Dense(64,activation='relu'))\n",
    "model.add(Dense(10,activation='softmax'))\n",
    "\n",
    "model.compile(Adam(lr=0.04),'categorical_crossentropy', metrics=['accuracy'])\n",
    "\n",
    "model.summary()"
   ]
  },
  {
   "cell_type": "code",
   "execution_count": 18,
   "id": "10cf584f",
   "metadata": {
    "scrolled": true
   },
   "outputs": [
    {
     "name": "stdout",
     "output_type": "stream",
     "text": [
      "Epoch 1/100\n",
      "45/45 [==============================] - 0s 3ms/step - loss: 1.3953 - accuracy: 0.5094 - val_loss: 0.6170 - val_accuracy: 0.8222\n",
      "Epoch 2/100\n",
      "45/45 [==============================] - 0s 1ms/step - loss: 0.5274 - accuracy: 0.8219 - val_loss: 0.2746 - val_accuracy: 0.9306\n",
      "Epoch 3/100\n",
      "45/45 [==============================] - 0s 1ms/step - loss: 0.2685 - accuracy: 0.9081 - val_loss: 0.1969 - val_accuracy: 0.9389\n",
      "Epoch 4/100\n",
      "45/45 [==============================] - 0s 1ms/step - loss: 0.1694 - accuracy: 0.9457 - val_loss: 0.2659 - val_accuracy: 0.9333\n",
      "Epoch 5/100\n",
      "45/45 [==============================] - 0s 1ms/step - loss: 0.1996 - accuracy: 0.9255 - val_loss: 0.1709 - val_accuracy: 0.9500\n",
      "Epoch 6/100\n",
      "45/45 [==============================] - 0s 1ms/step - loss: 0.1230 - accuracy: 0.9596 - val_loss: 0.1908 - val_accuracy: 0.9500\n",
      "Epoch 7/100\n",
      "45/45 [==============================] - 0s 1ms/step - loss: 0.1013 - accuracy: 0.9610 - val_loss: 0.2264 - val_accuracy: 0.9333\n",
      "Epoch 8/100\n",
      "45/45 [==============================] - 0s 1ms/step - loss: 0.0758 - accuracy: 0.9715 - val_loss: 0.1813 - val_accuracy: 0.9500\n",
      "Epoch 9/100\n",
      "45/45 [==============================] - 0s 1ms/step - loss: 0.1251 - accuracy: 0.9638 - val_loss: 0.2228 - val_accuracy: 0.9472\n",
      "Epoch 10/100\n",
      "45/45 [==============================] - 0s 1ms/step - loss: 0.0951 - accuracy: 0.9666 - val_loss: 0.1828 - val_accuracy: 0.9528\n",
      "Epoch 11/100\n",
      "45/45 [==============================] - 0s 1ms/step - loss: 0.0788 - accuracy: 0.9701 - val_loss: 0.1690 - val_accuracy: 0.9611\n",
      "Epoch 12/100\n",
      "45/45 [==============================] - 0s 1ms/step - loss: 0.0502 - accuracy: 0.9833 - val_loss: 0.1723 - val_accuracy: 0.9583\n",
      "Epoch 13/100\n",
      "45/45 [==============================] - 0s 1ms/step - loss: 0.0594 - accuracy: 0.9840 - val_loss: 0.1455 - val_accuracy: 0.9667\n",
      "Epoch 14/100\n",
      "45/45 [==============================] - 0s 1ms/step - loss: 0.0898 - accuracy: 0.9701 - val_loss: 0.1721 - val_accuracy: 0.9583\n",
      "Epoch 15/100\n",
      "45/45 [==============================] - 0s 1ms/step - loss: 0.1098 - accuracy: 0.9596 - val_loss: 0.2560 - val_accuracy: 0.9417\n",
      "Epoch 16/100\n",
      "45/45 [==============================] - 0s 1ms/step - loss: 0.0366 - accuracy: 0.9889 - val_loss: 0.1625 - val_accuracy: 0.9667\n",
      "Epoch 17/100\n",
      "45/45 [==============================] - 0s 1ms/step - loss: 0.0285 - accuracy: 0.9910 - val_loss: 0.2079 - val_accuracy: 0.9639\n",
      "Epoch 18/100\n",
      "45/45 [==============================] - 0s 1ms/step - loss: 0.1016 - accuracy: 0.9673 - val_loss: 0.2685 - val_accuracy: 0.9222\n",
      "Epoch 19/100\n",
      "45/45 [==============================] - 0s 1ms/step - loss: 0.0461 - accuracy: 0.9882 - val_loss: 0.2450 - val_accuracy: 0.9361\n",
      "Epoch 20/100\n",
      "45/45 [==============================] - 0s 1ms/step - loss: 0.0560 - accuracy: 0.9805 - val_loss: 0.1973 - val_accuracy: 0.9583\n",
      "Epoch 21/100\n",
      "45/45 [==============================] - 0s 1ms/step - loss: 0.0254 - accuracy: 0.9910 - val_loss: 0.1502 - val_accuracy: 0.9694\n",
      "Epoch 22/100\n",
      "45/45 [==============================] - 0s 1ms/step - loss: 0.0119 - accuracy: 0.9958 - val_loss: 0.1464 - val_accuracy: 0.9611\n",
      "Epoch 23/100\n",
      "45/45 [==============================] - 0s 1ms/step - loss: 0.1567 - accuracy: 0.9541 - val_loss: 0.2777 - val_accuracy: 0.9250\n",
      "Epoch 24/100\n",
      "45/45 [==============================] - 0s 1ms/step - loss: 0.0917 - accuracy: 0.9708 - val_loss: 0.2574 - val_accuracy: 0.9306\n",
      "Epoch 25/100\n",
      "45/45 [==============================] - 0s 1ms/step - loss: 0.0355 - accuracy: 0.9875 - val_loss: 0.2455 - val_accuracy: 0.9444\n",
      "Epoch 26/100\n",
      "45/45 [==============================] - 0s 1ms/step - loss: 0.0433 - accuracy: 0.9854 - val_loss: 0.2273 - val_accuracy: 0.9528\n",
      "Epoch 27/100\n",
      "45/45 [==============================] - 0s 1ms/step - loss: 0.0196 - accuracy: 0.9930 - val_loss: 0.1650 - val_accuracy: 0.9639\n",
      "Epoch 28/100\n",
      "45/45 [==============================] - 0s 1ms/step - loss: 0.0765 - accuracy: 0.9756 - val_loss: 0.2457 - val_accuracy: 0.9472\n",
      "Epoch 29/100\n",
      "45/45 [==============================] - 0s 1ms/step - loss: 0.0119 - accuracy: 0.9965 - val_loss: 0.1925 - val_accuracy: 0.9611\n",
      "Epoch 30/100\n",
      "45/45 [==============================] - 0s 1ms/step - loss: 0.0053 - accuracy: 1.0000 - val_loss: 0.2139 - val_accuracy: 0.9556\n",
      "Epoch 31/100\n",
      "45/45 [==============================] - 0s 1ms/step - loss: 0.0016 - accuracy: 1.0000 - val_loss: 0.2387 - val_accuracy: 0.9556\n",
      "Epoch 32/100\n",
      "45/45 [==============================] - 0s 1ms/step - loss: 0.0012 - accuracy: 1.0000 - val_loss: 0.2298 - val_accuracy: 0.9611\n",
      "Epoch 33/100\n",
      "45/45 [==============================] - 0s 1ms/step - loss: 6.5006e-04 - accuracy: 1.0000 - val_loss: 0.2203 - val_accuracy: 0.9639\n",
      "Epoch 34/100\n",
      "45/45 [==============================] - 0s 1ms/step - loss: 5.4125e-04 - accuracy: 1.0000 - val_loss: 0.2261 - val_accuracy: 0.9611\n",
      "Epoch 35/100\n",
      "45/45 [==============================] - 0s 1ms/step - loss: 4.7870e-04 - accuracy: 1.0000 - val_loss: 0.2237 - val_accuracy: 0.9639\n",
      "Epoch 36/100\n",
      "45/45 [==============================] - 0s 1ms/step - loss: 4.1442e-04 - accuracy: 1.0000 - val_loss: 0.2255 - val_accuracy: 0.9611\n",
      "Epoch 37/100\n",
      "45/45 [==============================] - 0s 1ms/step - loss: 3.6746e-04 - accuracy: 1.0000 - val_loss: 0.2228 - val_accuracy: 0.9611\n",
      "Epoch 38/100\n",
      "45/45 [==============================] - 0s 1ms/step - loss: 3.3175e-04 - accuracy: 1.0000 - val_loss: 0.2221 - val_accuracy: 0.9639\n",
      "Epoch 39/100\n",
      "45/45 [==============================] - 0s 1ms/step - loss: 3.0936e-04 - accuracy: 1.0000 - val_loss: 0.2259 - val_accuracy: 0.9611\n",
      "Epoch 40/100\n",
      "45/45 [==============================] - 0s 1ms/step - loss: 2.8807e-04 - accuracy: 1.0000 - val_loss: 0.2257 - val_accuracy: 0.9639\n",
      "Epoch 41/100\n",
      "45/45 [==============================] - 0s 1ms/step - loss: 2.5958e-04 - accuracy: 1.0000 - val_loss: 0.2272 - val_accuracy: 0.9639\n",
      "Epoch 42/100\n",
      "45/45 [==============================] - 0s 1ms/step - loss: 2.4292e-04 - accuracy: 1.0000 - val_loss: 0.2277 - val_accuracy: 0.9639\n",
      "Epoch 43/100\n",
      "45/45 [==============================] - 0s 1ms/step - loss: 2.2237e-04 - accuracy: 1.0000 - val_loss: 0.2307 - val_accuracy: 0.9639\n",
      "Epoch 44/100\n",
      "45/45 [==============================] - 0s 1ms/step - loss: 2.0612e-04 - accuracy: 1.0000 - val_loss: 0.2287 - val_accuracy: 0.9639\n",
      "Epoch 45/100\n",
      "45/45 [==============================] - 0s 1ms/step - loss: 1.9482e-04 - accuracy: 1.0000 - val_loss: 0.2299 - val_accuracy: 0.9639\n",
      "Epoch 46/100\n",
      "45/45 [==============================] - 0s 1ms/step - loss: 1.8154e-04 - accuracy: 1.0000 - val_loss: 0.2318 - val_accuracy: 0.9639\n",
      "Epoch 47/100\n",
      "45/45 [==============================] - 0s 1ms/step - loss: 1.7221e-04 - accuracy: 1.0000 - val_loss: 0.2319 - val_accuracy: 0.9639\n",
      "Epoch 48/100\n",
      "45/45 [==============================] - 0s 1ms/step - loss: 1.6365e-04 - accuracy: 1.0000 - val_loss: 0.2325 - val_accuracy: 0.9639\n",
      "Epoch 49/100\n",
      "45/45 [==============================] - 0s 1ms/step - loss: 1.5491e-04 - accuracy: 1.0000 - val_loss: 0.2338 - val_accuracy: 0.9639\n",
      "Epoch 50/100\n",
      "45/45 [==============================] - 0s 1ms/step - loss: 1.4741e-04 - accuracy: 1.0000 - val_loss: 0.2325 - val_accuracy: 0.9639\n",
      "Epoch 51/100\n",
      "45/45 [==============================] - 0s 1ms/step - loss: 1.3900e-04 - accuracy: 1.0000 - val_loss: 0.2332 - val_accuracy: 0.9639\n",
      "Epoch 52/100\n",
      "45/45 [==============================] - 0s 1ms/step - loss: 1.3120e-04 - accuracy: 1.0000 - val_loss: 0.2347 - val_accuracy: 0.9639\n",
      "Epoch 53/100\n",
      "45/45 [==============================] - 0s 1ms/step - loss: 1.2590e-04 - accuracy: 1.0000 - val_loss: 0.2345 - val_accuracy: 0.9639\n",
      "Epoch 54/100\n",
      "45/45 [==============================] - 0s 1ms/step - loss: 1.1994e-04 - accuracy: 1.0000 - val_loss: 0.2365 - val_accuracy: 0.9639\n",
      "Epoch 55/100\n",
      "45/45 [==============================] - 0s 1ms/step - loss: 1.1539e-04 - accuracy: 1.0000 - val_loss: 0.2349 - val_accuracy: 0.9639\n",
      "Epoch 56/100\n",
      "45/45 [==============================] - 0s 1ms/step - loss: 1.1070e-04 - accuracy: 1.0000 - val_loss: 0.2356 - val_accuracy: 0.9639\n",
      "Epoch 57/100\n",
      "45/45 [==============================] - 0s 1ms/step - loss: 1.0777e-04 - accuracy: 1.0000 - val_loss: 0.2375 - val_accuracy: 0.9639\n",
      "Epoch 58/100\n"
     ]
    },
    {
     "name": "stdout",
     "output_type": "stream",
     "text": [
      "45/45 [==============================] - 0s 1ms/step - loss: 1.0110e-04 - accuracy: 1.0000 - val_loss: 0.2363 - val_accuracy: 0.9639\n",
      "Epoch 59/100\n",
      "45/45 [==============================] - 0s 1ms/step - loss: 9.6744e-05 - accuracy: 1.0000 - val_loss: 0.2346 - val_accuracy: 0.9667\n",
      "Epoch 60/100\n",
      "45/45 [==============================] - 0s 1ms/step - loss: 9.4023e-05 - accuracy: 1.0000 - val_loss: 0.2359 - val_accuracy: 0.9667\n",
      "Epoch 61/100\n",
      "45/45 [==============================] - 0s 1ms/step - loss: 8.8910e-05 - accuracy: 1.0000 - val_loss: 0.2387 - val_accuracy: 0.9639\n",
      "Epoch 62/100\n",
      "45/45 [==============================] - 0s 1ms/step - loss: 8.5800e-05 - accuracy: 1.0000 - val_loss: 0.2368 - val_accuracy: 0.9667\n",
      "Epoch 63/100\n",
      "45/45 [==============================] - 0s 1ms/step - loss: 8.3050e-05 - accuracy: 1.0000 - val_loss: 0.2378 - val_accuracy: 0.9667\n",
      "Epoch 64/100\n",
      "45/45 [==============================] - 0s 1ms/step - loss: 7.9305e-05 - accuracy: 1.0000 - val_loss: 0.2372 - val_accuracy: 0.9667\n",
      "Epoch 65/100\n",
      "45/45 [==============================] - 0s 1ms/step - loss: 7.7348e-05 - accuracy: 1.0000 - val_loss: 0.2388 - val_accuracy: 0.9667\n",
      "Epoch 66/100\n",
      "45/45 [==============================] - 0s 1ms/step - loss: 7.4341e-05 - accuracy: 1.0000 - val_loss: 0.2395 - val_accuracy: 0.9667\n",
      "Epoch 67/100\n",
      "45/45 [==============================] - 0s 1ms/step - loss: 7.2679e-05 - accuracy: 1.0000 - val_loss: 0.2375 - val_accuracy: 0.9667\n",
      "Epoch 68/100\n",
      "45/45 [==============================] - 0s 1ms/step - loss: 6.8450e-05 - accuracy: 1.0000 - val_loss: 0.2395 - val_accuracy: 0.9639\n",
      "Epoch 69/100\n",
      "45/45 [==============================] - 0s 1ms/step - loss: 6.7824e-05 - accuracy: 1.0000 - val_loss: 0.2399 - val_accuracy: 0.9639\n",
      "Epoch 70/100\n",
      "45/45 [==============================] - 0s 1ms/step - loss: 6.4994e-05 - accuracy: 1.0000 - val_loss: 0.2380 - val_accuracy: 0.9667\n",
      "Epoch 71/100\n",
      "45/45 [==============================] - 0s 1ms/step - loss: 6.2940e-05 - accuracy: 1.0000 - val_loss: 0.2412 - val_accuracy: 0.9639\n",
      "Epoch 72/100\n",
      "45/45 [==============================] - 0s 1ms/step - loss: 6.1404e-05 - accuracy: 1.0000 - val_loss: 0.2413 - val_accuracy: 0.9639\n",
      "Epoch 73/100\n",
      "45/45 [==============================] - 0s 1ms/step - loss: 5.7917e-05 - accuracy: 1.0000 - val_loss: 0.2410 - val_accuracy: 0.9639\n",
      "Epoch 74/100\n",
      "45/45 [==============================] - 0s 1ms/step - loss: 5.6664e-05 - accuracy: 1.0000 - val_loss: 0.2415 - val_accuracy: 0.9639\n",
      "Epoch 75/100\n",
      "45/45 [==============================] - 0s 1ms/step - loss: 5.5071e-05 - accuracy: 1.0000 - val_loss: 0.2416 - val_accuracy: 0.9639\n",
      "Epoch 76/100\n",
      "45/45 [==============================] - 0s 1ms/step - loss: 5.3956e-05 - accuracy: 1.0000 - val_loss: 0.2415 - val_accuracy: 0.9639\n",
      "Epoch 77/100\n",
      "45/45 [==============================] - 0s 1ms/step - loss: 5.1323e-05 - accuracy: 1.0000 - val_loss: 0.2419 - val_accuracy: 0.9639\n",
      "Epoch 78/100\n",
      "45/45 [==============================] - 0s 1ms/step - loss: 5.0515e-05 - accuracy: 1.0000 - val_loss: 0.2428 - val_accuracy: 0.9639\n",
      "Epoch 79/100\n",
      "45/45 [==============================] - 0s 1ms/step - loss: 4.8533e-05 - accuracy: 1.0000 - val_loss: 0.2440 - val_accuracy: 0.9639\n",
      "Epoch 80/100\n",
      "45/45 [==============================] - 0s 1ms/step - loss: 4.6767e-05 - accuracy: 1.0000 - val_loss: 0.2411 - val_accuracy: 0.9639\n",
      "Epoch 81/100\n",
      "45/45 [==============================] - 0s 1ms/step - loss: 4.5491e-05 - accuracy: 1.0000 - val_loss: 0.2421 - val_accuracy: 0.9639\n",
      "Epoch 82/100\n",
      "45/45 [==============================] - 0s 1ms/step - loss: 4.5083e-05 - accuracy: 1.0000 - val_loss: 0.2448 - val_accuracy: 0.9639\n",
      "Epoch 83/100\n",
      "45/45 [==============================] - 0s 1ms/step - loss: 4.3949e-05 - accuracy: 1.0000 - val_loss: 0.2450 - val_accuracy: 0.9639\n",
      "Epoch 84/100\n",
      "45/45 [==============================] - 0s 1ms/step - loss: 4.1393e-05 - accuracy: 1.0000 - val_loss: 0.2444 - val_accuracy: 0.9639\n",
      "Epoch 85/100\n",
      "45/45 [==============================] - 0s 1ms/step - loss: 4.0442e-05 - accuracy: 1.0000 - val_loss: 0.2430 - val_accuracy: 0.9639\n",
      "Epoch 86/100\n",
      "45/45 [==============================] - 0s 1ms/step - loss: 3.9294e-05 - accuracy: 1.0000 - val_loss: 0.2470 - val_accuracy: 0.9639\n",
      "Epoch 87/100\n",
      "45/45 [==============================] - 0s 1ms/step - loss: 3.7908e-05 - accuracy: 1.0000 - val_loss: 0.2455 - val_accuracy: 0.9639\n",
      "Epoch 88/100\n",
      "45/45 [==============================] - 0s 1ms/step - loss: 3.6751e-05 - accuracy: 1.0000 - val_loss: 0.2449 - val_accuracy: 0.9639\n",
      "Epoch 89/100\n",
      "45/45 [==============================] - 0s 1ms/step - loss: 3.5920e-05 - accuracy: 1.0000 - val_loss: 0.2458 - val_accuracy: 0.9639\n",
      "Epoch 90/100\n",
      "45/45 [==============================] - 0s 1ms/step - loss: 3.5242e-05 - accuracy: 1.0000 - val_loss: 0.2456 - val_accuracy: 0.9639\n",
      "Epoch 91/100\n",
      "45/45 [==============================] - 0s 1ms/step - loss: 3.3600e-05 - accuracy: 1.0000 - val_loss: 0.2458 - val_accuracy: 0.9639\n",
      "Epoch 92/100\n",
      "45/45 [==============================] - 0s 1ms/step - loss: 3.2814e-05 - accuracy: 1.0000 - val_loss: 0.2456 - val_accuracy: 0.9639\n",
      "Epoch 93/100\n",
      "45/45 [==============================] - 0s 1ms/step - loss: 3.1812e-05 - accuracy: 1.0000 - val_loss: 0.2472 - val_accuracy: 0.9639\n",
      "Epoch 94/100\n",
      "45/45 [==============================] - 0s 1ms/step - loss: 3.1187e-05 - accuracy: 1.0000 - val_loss: 0.2452 - val_accuracy: 0.9639\n",
      "Epoch 95/100\n",
      "45/45 [==============================] - 0s 1ms/step - loss: 3.0236e-05 - accuracy: 1.0000 - val_loss: 0.2466 - val_accuracy: 0.9639\n",
      "Epoch 96/100\n",
      "45/45 [==============================] - 0s 1ms/step - loss: 2.9549e-05 - accuracy: 1.0000 - val_loss: 0.2470 - val_accuracy: 0.9639\n",
      "Epoch 97/100\n",
      "45/45 [==============================] - 0s 1ms/step - loss: 2.8622e-05 - accuracy: 1.0000 - val_loss: 0.2471 - val_accuracy: 0.9639\n",
      "Epoch 98/100\n",
      "45/45 [==============================] - 0s 1ms/step - loss: 2.7865e-05 - accuracy: 1.0000 - val_loss: 0.2473 - val_accuracy: 0.9639\n",
      "Epoch 99/100\n",
      "45/45 [==============================] - 0s 1ms/step - loss: 2.7357e-05 - accuracy: 1.0000 - val_loss: 0.2476 - val_accuracy: 0.9639\n",
      "Epoch 100/100\n",
      "45/45 [==============================] - 0s 1ms/step - loss: 2.6287e-05 - accuracy: 1.0000 - val_loss: 0.2480 - val_accuracy: 0.9639\n",
      "12/12 [==============================] - 0s 545us/step\n"
     ]
    }
   ],
   "source": [
    "#fitting the model and predicting \n",
    "\n",
    "# fit network\n",
    "model_history = model.fit(x=X_train, y=y_train, epochs=100, batch_size=32, validation_data= (X_test, y_test))\n",
    "y_pred = model.predict(X_test)\n",
    "\n",
    "y_test_class = np.argmax(y_test,axis=0)\n",
    "y_pred_class = np.argmax(y_pred,axis=1)"
   ]
  },
  {
   "cell_type": "code",
   "execution_count": 19,
   "id": "83196571",
   "metadata": {},
   "outputs": [
    {
     "name": "stdout",
     "output_type": "stream",
     "text": [
      "12/12 [==============================] - 0s 609us/step - loss: 0.2480 - accuracy: 0.9639\n",
      "Test loss: 0.24796219170093536\n",
      "Test accuracy: 0.9638888835906982\n"
     ]
    }
   ],
   "source": [
    "# 모델 성능 평가\n",
    "test_loss, test_acc = model.evaluate(X_test, y_test)\n",
    "print(\"Test loss:\", test_loss)\n",
    "print(\"Test accuracy:\", test_acc)"
   ]
  },
  {
   "cell_type": "code",
   "execution_count": 20,
   "id": "901a8d07",
   "metadata": {},
   "outputs": [
    {
     "name": "stdout",
     "output_type": "stream",
     "text": [
      "12/12 [==============================] - 0s 597us/step - loss: 0.2480 - accuracy: 0.9639\n",
      "Test loss: 0.24796219170093536\n",
      "Test accuracy: 0.9638888835906982\n"
     ]
    },
    {
     "data": {
      "image/png": "[encoded data removed]",
      "text/plain": [
       "<Figure size 640x480 with 1 Axes>"
      ]
     },
     "metadata": {},
     "output_type": "display_data"
    }
   ],
   "source": [
    "# 모델 성능 평가\n",
    "test_loss, test_acc = model.evaluate(X_test, y_test)\n",
    "print(\"Test loss:\", test_loss)\n",
    "print(\"Test accuracy:\", test_acc)\n",
    "\n",
    "# 손실과 정확도 그래프 출력\n",
    "import matplotlib.pyplot as plt\n",
    "\n",
    "plt.plot(model_history.history['loss'], label='train_loss')\n",
    "plt.plot(model_history.history['val_loss'], label='val_loss')\n",
    "plt.plot(model_history.history['accuracy'], label='train_accuracy')\n",
    "plt.plot(model_history.history['val_accuracy'], label='val_accuracy')\n",
    "plt.xlabel('Epochs')\n",
    "plt.ylabel('Loss & Accuracy')\n",
    "plt.legend()\n",
    "plt.show()\n"
   ]
  }
 ],
 "metadata": {
  "kernelspec": {
   "display_name": "Python 3 (ipykernel)",
   "language": "python",
   "name": "python3"
  },
  "language_info": {
   "codemirror_mode": {
    "name": "ipython",
    "version": 3
   },
   "file_extension": ".py",
   "mimetype": "text/x-python",
   "name": "python",
   "nbconvert_exporter": "python",
   "pygments_lexer": "ipython3",
   "version": "3.8.16"
  }
 },
 "nbformat": 4,
 "nbformat_minor": 5
}
