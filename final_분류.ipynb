{
 "cells": [
  {
   "cell_type": "code",
   "execution_count": 1,
   "id": "a166aa86",
   "metadata": {
    "scrolled": false
   },
   "outputs": [
    {
     "data": {
      "text/html": [
       "<div>\n",
       "<style scoped>\n",
       "    .dataframe tbody tr th:only-of-type {\n",
       "        vertical-align: middle;\n",
       "    }\n",
       "\n",
       "    .dataframe tbody tr th {\n",
       "        vertical-align: top;\n",
       "    }\n",
       "\n",
       "    .dataframe thead th {\n",
       "        text-align: right;\n",
       "    }\n",
       "</style>\n",
       "<table border=\"1\" class=\"dataframe\">\n",
       "  <thead>\n",
       "    <tr style=\"text-align: right;\">\n",
       "      <th></th>\n",
       "      <th>timestamp</th>\n",
       "      <th>back_x</th>\n",
       "      <th>back_y</th>\n",
       "      <th>back_z</th>\n",
       "      <th>thigh_x</th>\n",
       "      <th>thigh_y</th>\n",
       "      <th>thigh_z</th>\n",
       "      <th>label</th>\n",
       "    </tr>\n",
       "  </thead>\n",
       "  <tbody>\n",
       "    <tr>\n",
       "      <th>0</th>\n",
       "      <td>42:03.8</td>\n",
       "      <td>-0.999023</td>\n",
       "      <td>-0.063477</td>\n",
       "      <td>0.140625</td>\n",
       "      <td>-0.980469</td>\n",
       "      <td>-0.112061</td>\n",
       "      <td>-0.048096</td>\n",
       "      <td>6</td>\n",
       "    </tr>\n",
       "    <tr>\n",
       "      <th>1</th>\n",
       "      <td>42:03.9</td>\n",
       "      <td>-0.980225</td>\n",
       "      <td>-0.079346</td>\n",
       "      <td>0.140625</td>\n",
       "      <td>-0.961182</td>\n",
       "      <td>-0.121582</td>\n",
       "      <td>-0.051758</td>\n",
       "      <td>6</td>\n",
       "    </tr>\n",
       "    <tr>\n",
       "      <th>2</th>\n",
       "      <td>42:03.9</td>\n",
       "      <td>-0.950195</td>\n",
       "      <td>-0.076416</td>\n",
       "      <td>0.140625</td>\n",
       "      <td>-0.949463</td>\n",
       "      <td>-0.080566</td>\n",
       "      <td>-0.067139</td>\n",
       "      <td>6</td>\n",
       "    </tr>\n",
       "    <tr>\n",
       "      <th>3</th>\n",
       "      <td>42:03.9</td>\n",
       "      <td>-0.954834</td>\n",
       "      <td>-0.059082</td>\n",
       "      <td>0.140381</td>\n",
       "      <td>-0.957520</td>\n",
       "      <td>-0.046143</td>\n",
       "      <td>-0.050781</td>\n",
       "      <td>6</td>\n",
       "    </tr>\n",
       "    <tr>\n",
       "      <th>4</th>\n",
       "      <td>42:03.9</td>\n",
       "      <td>-0.972412</td>\n",
       "      <td>-0.042969</td>\n",
       "      <td>0.142822</td>\n",
       "      <td>-0.977051</td>\n",
       "      <td>-0.023682</td>\n",
       "      <td>-0.026611</td>\n",
       "      <td>6</td>\n",
       "    </tr>\n",
       "  </tbody>\n",
       "</table>\n",
       "</div>"
      ],
      "text/plain": [
       "  timestamp    back_x    back_y    back_z   thigh_x   thigh_y   thigh_z  label\n",
       "0   42:03.8 -0.999023 -0.063477  0.140625 -0.980469 -0.112061 -0.048096      6\n",
       "1   42:03.9 -0.980225 -0.079346  0.140625 -0.961182 -0.121582 -0.051758      6\n",
       "2   42:03.9 -0.950195 -0.076416  0.140625 -0.949463 -0.080566 -0.067139      6\n",
       "3   42:03.9 -0.954834 -0.059082  0.140381 -0.957520 -0.046143 -0.050781      6\n",
       "4   42:03.9 -0.972412 -0.042969  0.142822 -0.977051 -0.023682 -0.026611      6"
      ]
     },
     "execution_count": 1,
     "metadata": {},
     "output_type": "execute_result"
    }
   ],
   "source": [
    "import numpy as np\n",
    "import pandas as pd\n",
    "\n",
    "df = pd.read_csv(\"501.csv\")\n",
    "\n",
    "df.head()"
   ]
  },
  {
   "cell_type": "code",
   "execution_count": 2,
   "id": "77d15edc",
   "metadata": {
    "scrolled": false
   },
   "outputs": [
    {
     "data": {
      "text/plain": [
       "timestamp    0\n",
       "back_x       0\n",
       "back_y       0\n",
       "back_z       0\n",
       "thigh_x      0\n",
       "thigh_y      0\n",
       "thigh_z      0\n",
       "label        0\n",
       "dtype: int64"
      ]
     },
     "execution_count": 2,
     "metadata": {},
     "output_type": "execute_result"
    }
   ],
   "source": [
    "df.isnull().sum()"
   ]
  },
  {
   "cell_type": "code",
   "execution_count": 3,
   "id": "53e89124",
   "metadata": {},
   "outputs": [],
   "source": [
    "df = df.sample(frac = 0.1)"
   ]
  },
  {
   "cell_type": "code",
   "execution_count": 4,
   "id": "08fbe76c",
   "metadata": {
    "scrolled": true
   },
   "outputs": [
    {
     "data": {
      "text/plain": [
       "Text(0.5, 1.0, 'Label')"
      ]
     },
     "execution_count": 4,
     "metadata": {},
     "output_type": "execute_result"
    },
    {
     "data": {
      "image/png": "[encoded data removed]",
      "text/plain": [
       "<Figure size 640x480 with 1 Axes>"
      ]
     },
     "metadata": {},
     "output_type": "display_data"
    }
   ],
   "source": [
    "import seaborn as sns\n",
    "import matplotlib.pyplot as plt\n",
    "\n",
    "sns.countplot(data = df, x=\"label\")\n",
    "plt.xlabel(\"label\")\n",
    "plt.ylabel(\"Count\")\n",
    "plt.title(\"Label\")"
   ]
  },
  {
   "cell_type": "code",
   "execution_count": 5,
   "id": "4ef3cddb",
   "metadata": {},
   "outputs": [
    {
     "data": {
      "text/plain": [
       "23929    8\n",
       "47612    1\n",
       "69529    1\n",
       "74427    1\n",
       "74817    1\n",
       "        ..\n",
       "21921    8\n",
       "75471    1\n",
       "8681     7\n",
       "10524    7\n",
       "3608     6\n",
       "Name: label, Length: 10386, dtype: int64"
      ]
     },
     "execution_count": 5,
     "metadata": {},
     "output_type": "execute_result"
    }
   ],
   "source": [
    "y = df['label']\n",
    "X = df.drop('label', axis=1)\n",
    "X = X.drop('timestamp', axis=1)\n",
    "\n",
    "y"
   ]
  },
  {
   "cell_type": "code",
   "execution_count": 6,
   "id": "6250b8f7",
   "metadata": {
    "scrolled": true
   },
   "outputs": [
    {
     "name": "stderr",
     "output_type": "stream",
     "text": [
      "2023-05-26 11:20:53.595723: I tensorflow/core/platform/cpu_feature_guard.cc:193] This TensorFlow binary is optimized with oneAPI Deep Neural Network Library (oneDNN) to use the following CPU instructions in performance-critical operations:  SSE4.1 SSE4.2\n",
      "To enable them in other operations, rebuild TensorFlow with the appropriate compiler flags.\n"
     ]
    },
    {
     "data": {
      "text/plain": [
       "array([[0., 0., 0., ..., 0., 0., 1.],\n",
       "       [0., 1., 0., ..., 0., 0., 0.],\n",
       "       [0., 1., 0., ..., 0., 0., 0.],\n",
       "       ...,\n",
       "       [0., 0., 0., ..., 0., 1., 0.],\n",
       "       [0., 0., 0., ..., 0., 1., 0.],\n",
       "       [0., 0., 0., ..., 1., 0., 0.]], dtype=float32)"
      ]
     },
     "execution_count": 6,
     "metadata": {},
     "output_type": "execute_result"
    }
   ],
   "source": [
    "from keras.utils import to_categorical\n",
    "\n",
    "y = to_categorical(y)\n",
    "y"
   ]
  },
  {
   "cell_type": "code",
   "execution_count": 7,
   "id": "b3452d29",
   "metadata": {},
   "outputs": [
    {
     "data": {
      "text/plain": [
       "(8308, 6)"
      ]
     },
     "execution_count": 7,
     "metadata": {},
     "output_type": "execute_result"
    }
   ],
   "source": [
    "from sklearn.model_selection import train_test_split\n",
    "\n",
    "X_train, X_test, y_train, y_test = train_test_split(X, y, test_size=0.2, random_state=10)\n",
    "X_train.shape"
   ]
  },
  {
   "cell_type": "code",
   "execution_count": 8,
   "id": "02db4d9a",
   "metadata": {
    "scrolled": true
   },
   "outputs": [
    {
     "name": "stdout",
     "output_type": "stream",
     "text": [
      "Model: \"sequential\"\n",
      "_________________________________________________________________\n",
      " Layer (type)                Output Shape              Param #   \n",
      "=================================================================\n",
      " dense (Dense)               (None, 100)               700       \n",
      "                                                                 \n",
      " dense_1 (Dense)             (None, 80)                8080      \n",
      "                                                                 \n",
      " dense_2 (Dense)             (None, 60)                4860      \n",
      "                                                                 \n",
      " dense_3 (Dense)             (None, 9)                 549       \n",
      "                                                                 \n",
      "=================================================================\n",
      "Total params: 14,189\n",
      "Trainable params: 14,189\n",
      "Non-trainable params: 0\n",
      "_________________________________________________________________\n"
     ]
    },
    {
     "name": "stderr",
     "output_type": "stream",
     "text": [
      "2023-05-26 11:20:56.017894: I tensorflow/core/platform/cpu_feature_guard.cc:193] This TensorFlow binary is optimized with oneAPI Deep Neural Network Library (oneDNN) to use the following CPU instructions in performance-critical operations:  SSE4.1 SSE4.2\n",
      "To enable them in other operations, rebuild TensorFlow with the appropriate compiler flags.\n",
      "/Users/yes/opt/anaconda3/envs/aiclass/lib/python3.8/site-packages/keras/optimizers/optimizer_v2/adam.py:114: UserWarning: The `lr` argument is deprecated, use `learning_rate` instead.\n",
      "  super().__init__(name, **kwargs)\n"
     ]
    }
   ],
   "source": [
    "from keras.models import Sequential\n",
    "from keras.layers import Dense\n",
    "from keras.optimizers import SGD,Adam\n",
    "\n",
    "\n",
    "model = Sequential()\n",
    "\n",
    "model.add(Dense(100,input_shape=(6,),activation='relu'))\n",
    "model.add(Dense(80,activation='relu'))\n",
    "model.add(Dense(60,activation='relu'))\n",
    "model.add(Dense(9,activation='softmax'))\n",
    "\n",
    "model.compile(Adam(lr=0.04),'categorical_crossentropy',metrics=['accuracy'])\n",
    "\n",
    "model.summary()"
   ]
  },
  {
   "cell_type": "code",
   "execution_count": 9,
   "id": "5f6ababe",
   "metadata": {
    "scrolled": true
   },
   "outputs": [
    {
     "name": "stdout",
     "output_type": "stream",
     "text": [
      "Epoch 1/100\n",
      "2077/2077 [==============================] - 2s 757us/step - loss: 0.5761 - accuracy: 0.8297 - val_loss: 0.3749 - val_accuracy: 0.8446\n",
      "Epoch 2/100\n",
      "2077/2077 [==============================] - 1s 695us/step - loss: 0.3999 - accuracy: 0.8686 - val_loss: 0.3677 - val_accuracy: 0.8710\n",
      "Epoch 3/100\n",
      "2077/2077 [==============================] - 1s 695us/step - loss: 0.4069 - accuracy: 0.8748 - val_loss: 0.3763 - val_accuracy: 0.8807\n",
      "Epoch 4/100\n",
      "2077/2077 [==============================] - 1s 680us/step - loss: 0.3661 - accuracy: 0.8832 - val_loss: 0.3171 - val_accuracy: 0.9172\n",
      "Epoch 5/100\n",
      "2077/2077 [==============================] - 1s 681us/step - loss: 0.3801 - accuracy: 0.8908 - val_loss: 0.3255 - val_accuracy: 0.8965\n",
      "Epoch 6/100\n",
      "2077/2077 [==============================] - 1s 681us/step - loss: 0.3132 - accuracy: 0.9095 - val_loss: 0.2497 - val_accuracy: 0.9408\n",
      "Epoch 7/100\n",
      "2077/2077 [==============================] - 1s 692us/step - loss: 0.5103 - accuracy: 0.8763 - val_loss: 0.3120 - val_accuracy: 0.9066\n",
      "Epoch 8/100\n",
      "2077/2077 [==============================] - 1s 710us/step - loss: 0.6871 - accuracy: 0.8863 - val_loss: 0.3883 - val_accuracy: 0.8720\n",
      "Epoch 9/100\n",
      "2077/2077 [==============================] - 1s 698us/step - loss: 0.3684 - accuracy: 0.8844 - val_loss: 0.3206 - val_accuracy: 0.9139\n",
      "Epoch 10/100\n",
      "2077/2077 [==============================] - 1s 701us/step - loss: 0.3479 - accuracy: 0.9030 - val_loss: 0.3774 - val_accuracy: 0.8633\n",
      "Epoch 11/100\n",
      "2077/2077 [==============================] - 1s 700us/step - loss: 0.3617 - accuracy: 0.9024 - val_loss: 0.2869 - val_accuracy: 0.9206\n",
      "Epoch 12/100\n",
      "2077/2077 [==============================] - 1s 701us/step - loss: 0.2999 - accuracy: 0.9184 - val_loss: 0.2394 - val_accuracy: 0.9336\n",
      "Epoch 13/100\n",
      "2077/2077 [==============================] - 1s 713us/step - loss: 0.3434 - accuracy: 0.9031 - val_loss: 0.2378 - val_accuracy: 0.9418\n",
      "Epoch 14/100\n",
      "2077/2077 [==============================] - 1s 697us/step - loss: 0.6907 - accuracy: 0.7906 - val_loss: 0.8711 - val_accuracy: 0.6954\n",
      "Epoch 15/100\n",
      "2077/2077 [==============================] - 1s 709us/step - loss: 0.8707 - accuracy: 0.6990 - val_loss: 0.8914 - val_accuracy: 0.6935\n",
      "Epoch 16/100\n",
      "2077/2077 [==============================] - 1s 699us/step - loss: 0.8786 - accuracy: 0.6987 - val_loss: 0.8685 - val_accuracy: 0.6954\n",
      "Epoch 17/100\n",
      "2077/2077 [==============================] - 1s 698us/step - loss: 0.8745 - accuracy: 0.6991 - val_loss: 0.8712 - val_accuracy: 0.6959\n",
      "Epoch 18/100\n",
      "2077/2077 [==============================] - 1s 691us/step - loss: 0.8626 - accuracy: 0.7038 - val_loss: 0.6009 - val_accuracy: 0.8099\n",
      "Epoch 19/100\n",
      "2077/2077 [==============================] - 1s 685us/step - loss: 0.8280 - accuracy: 0.7936 - val_loss: 0.8038 - val_accuracy: 0.7334\n",
      "Epoch 20/100\n",
      "2077/2077 [==============================] - 1s 693us/step - loss: 0.8397 - accuracy: 0.7300 - val_loss: 0.7803 - val_accuracy: 0.7397\n",
      "Epoch 21/100\n",
      "2077/2077 [==============================] - 1s 682us/step - loss: 0.7992 - accuracy: 0.7374 - val_loss: 1.4254 - val_accuracy: 0.7382\n",
      "Epoch 22/100\n",
      "2077/2077 [==============================] - 1s 688us/step - loss: 0.8663 - accuracy: 0.7235 - val_loss: 0.9097 - val_accuracy: 0.7093\n",
      "Epoch 23/100\n",
      "2077/2077 [==============================] - 1s 693us/step - loss: 0.8929 - accuracy: 0.7152 - val_loss: 1.1237 - val_accuracy: 0.7098\n",
      "Epoch 24/100\n",
      "2077/2077 [==============================] - 2s 770us/step - loss: 0.8307 - accuracy: 0.7247 - val_loss: 0.7126 - val_accuracy: 0.6959\n",
      "Epoch 25/100\n",
      "2077/2077 [==============================] - 2s 814us/step - loss: 0.6637 - accuracy: 0.7271 - val_loss: 0.7542 - val_accuracy: 0.7392\n",
      "Epoch 26/100\n",
      "2077/2077 [==============================] - 2s 722us/step - loss: 0.6590 - accuracy: 0.7275 - val_loss: 0.7737 - val_accuracy: 0.7392\n",
      "Epoch 27/100\n",
      "2077/2077 [==============================] - 1s 697us/step - loss: 0.6605 - accuracy: 0.7274 - val_loss: 0.7514 - val_accuracy: 0.7392\n",
      "Epoch 28/100\n",
      "2077/2077 [==============================] - 1s 685us/step - loss: 0.6595 - accuracy: 0.7294 - val_loss: 0.7504 - val_accuracy: 0.7392\n",
      "Epoch 29/100\n",
      "2077/2077 [==============================] - 1s 686us/step - loss: 0.6599 - accuracy: 0.7277 - val_loss: 0.7597 - val_accuracy: 0.7392\n",
      "Epoch 30/100\n",
      "2077/2077 [==============================] - 1s 687us/step - loss: 0.6594 - accuracy: 0.7313 - val_loss: 0.7522 - val_accuracy: 0.7392\n",
      "Epoch 31/100\n",
      "2077/2077 [==============================] - 1s 683us/step - loss: 0.6578 - accuracy: 0.7282 - val_loss: 0.7782 - val_accuracy: 0.6954\n",
      "Epoch 32/100\n",
      "2077/2077 [==============================] - 1s 684us/step - loss: 0.6592 - accuracy: 0.7298 - val_loss: 0.7561 - val_accuracy: 0.7392\n",
      "Epoch 33/100\n",
      "2077/2077 [==============================] - 1s 707us/step - loss: 0.6594 - accuracy: 0.7275 - val_loss: 0.7512 - val_accuracy: 0.7392\n",
      "Epoch 34/100\n",
      "2077/2077 [==============================] - 1s 716us/step - loss: 0.6591 - accuracy: 0.7339 - val_loss: 0.7536 - val_accuracy: 0.7392\n",
      "Epoch 35/100\n",
      "2077/2077 [==============================] - 2s 815us/step - loss: 0.6597 - accuracy: 0.7268 - val_loss: 0.7714 - val_accuracy: 0.6954\n",
      "Epoch 36/100\n",
      "2077/2077 [==============================] - 2s 741us/step - loss: 0.6607 - accuracy: 0.7277 - val_loss: 0.7525 - val_accuracy: 0.7392\n",
      "Epoch 37/100\n",
      "2077/2077 [==============================] - 1s 714us/step - loss: 0.6588 - accuracy: 0.7280 - val_loss: 0.7619 - val_accuracy: 0.7392\n",
      "Epoch 38/100\n",
      "2077/2077 [==============================] - 1s 685us/step - loss: 0.6580 - accuracy: 0.7299 - val_loss: 0.7880 - val_accuracy: 0.7392\n",
      "Epoch 39/100\n",
      "2077/2077 [==============================] - 1s 688us/step - loss: 0.8144 - accuracy: 0.7043 - val_loss: 1.6837 - val_accuracy: 0.5958\n",
      "Epoch 40/100\n",
      "2077/2077 [==============================] - 1s 675us/step - loss: 1.3831 - accuracy: 0.6019 - val_loss: 1.1811 - val_accuracy: 0.5958\n",
      "Epoch 41/100\n",
      "2077/2077 [==============================] - 1s 680us/step - loss: 1.1858 - accuracy: 0.6021 - val_loss: 1.1815 - val_accuracy: 0.5958\n",
      "Epoch 42/100\n",
      "2077/2077 [==============================] - 1s 679us/step - loss: 1.1858 - accuracy: 0.6021 - val_loss: 1.1895 - val_accuracy: 0.5958\n",
      "Epoch 43/100\n",
      "2077/2077 [==============================] - 1s 679us/step - loss: 1.1860 - accuracy: 0.6021 - val_loss: 1.1811 - val_accuracy: 0.5958\n",
      "Epoch 44/100\n",
      "2077/2077 [==============================] - 1s 695us/step - loss: 1.1853 - accuracy: 0.6021 - val_loss: 1.1860 - val_accuracy: 0.5958\n",
      "Epoch 45/100\n",
      "2077/2077 [==============================] - 1s 681us/step - loss: 1.1859 - accuracy: 0.6021 - val_loss: 1.1861 - val_accuracy: 0.5958\n",
      "Epoch 46/100\n",
      "2077/2077 [==============================] - 1s 678us/step - loss: 1.1864 - accuracy: 0.6021 - val_loss: 1.1927 - val_accuracy: 0.5958\n",
      "Epoch 47/100\n",
      "2077/2077 [==============================] - 1s 680us/step - loss: 1.1864 - accuracy: 0.6021 - val_loss: 1.1826 - val_accuracy: 0.5958\n",
      "Epoch 48/100\n",
      "2077/2077 [==============================] - 1s 676us/step - loss: 1.1858 - accuracy: 0.6021 - val_loss: 1.1874 - val_accuracy: 0.5958\n",
      "Epoch 49/100\n",
      "2077/2077 [==============================] - 1s 675us/step - loss: 1.1855 - accuracy: 0.6021 - val_loss: 1.1871 - val_accuracy: 0.5958\n",
      "Epoch 50/100\n",
      "2077/2077 [==============================] - 1s 674us/step - loss: 1.1858 - accuracy: 0.6021 - val_loss: 1.1870 - val_accuracy: 0.5958\n",
      "Epoch 51/100\n",
      "2077/2077 [==============================] - 1s 686us/step - loss: 1.1862 - accuracy: 0.6021 - val_loss: 1.1826 - val_accuracy: 0.5958\n",
      "Epoch 52/100\n",
      "2077/2077 [==============================] - 1s 675us/step - loss: 1.1845 - accuracy: 0.6021 - val_loss: 1.1879 - val_accuracy: 0.5958\n",
      "Epoch 53/100\n",
      "2077/2077 [==============================] - 1s 676us/step - loss: 1.1872 - accuracy: 0.6021 - val_loss: 1.1848 - val_accuracy: 0.5958\n",
      "Epoch 54/100\n",
      "2077/2077 [==============================] - 1s 675us/step - loss: 1.1864 - accuracy: 0.6021 - val_loss: 1.1811 - val_accuracy: 0.5958\n",
      "Epoch 55/100\n",
      "2077/2077 [==============================] - 1s 684us/step - loss: 1.1868 - accuracy: 0.6021 - val_loss: 1.5551 - val_accuracy: 0.5958\n",
      "Epoch 56/100\n"
     ]
    },
    {
     "name": "stdout",
     "output_type": "stream",
     "text": [
      "2077/2077 [==============================] - 1s 695us/step - loss: 1.1793 - accuracy: 0.6021 - val_loss: 1.1943 - val_accuracy: 0.5958\n",
      "Epoch 57/100\n",
      "2077/2077 [==============================] - 1s 685us/step - loss: 1.1796 - accuracy: 0.6021 - val_loss: 1.1782 - val_accuracy: 0.5958\n",
      "Epoch 58/100\n",
      "2077/2077 [==============================] - 1s 685us/step - loss: 1.1794 - accuracy: 0.6021 - val_loss: 1.1766 - val_accuracy: 0.5958\n",
      "Epoch 59/100\n",
      "2077/2077 [==============================] - 1s 698us/step - loss: 1.1783 - accuracy: 0.6021 - val_loss: 1.1756 - val_accuracy: 0.5958\n",
      "Epoch 60/100\n",
      "2077/2077 [==============================] - 1s 685us/step - loss: 1.1786 - accuracy: 0.6021 - val_loss: 1.1783 - val_accuracy: 0.5958\n",
      "Epoch 61/100\n",
      "2077/2077 [==============================] - 1s 686us/step - loss: 1.1785 - accuracy: 0.6021 - val_loss: 1.1779 - val_accuracy: 0.5958\n",
      "Epoch 62/100\n",
      "2077/2077 [==============================] - 1s 685us/step - loss: 1.1784 - accuracy: 0.6021 - val_loss: 1.1801 - val_accuracy: 0.5958\n",
      "Epoch 63/100\n",
      "2077/2077 [==============================] - 1s 688us/step - loss: 1.1780 - accuracy: 0.6021 - val_loss: 1.1831 - val_accuracy: 0.5958\n",
      "Epoch 64/100\n",
      "2077/2077 [==============================] - 2s 745us/step - loss: 1.1787 - accuracy: 0.6021 - val_loss: 1.1846 - val_accuracy: 0.5958\n",
      "Epoch 65/100\n",
      "2077/2077 [==============================] - 1s 703us/step - loss: 1.1795 - accuracy: 0.6021 - val_loss: 1.1849 - val_accuracy: 0.5958\n",
      "Epoch 66/100\n",
      "2077/2077 [==============================] - 2s 735us/step - loss: 1.1789 - accuracy: 0.6021 - val_loss: 1.1866 - val_accuracy: 0.5958\n",
      "Epoch 67/100\n",
      "2077/2077 [==============================] - 2s 744us/step - loss: 1.1777 - accuracy: 0.6021 - val_loss: 1.1815 - val_accuracy: 0.5958\n",
      "Epoch 68/100\n",
      "2077/2077 [==============================] - 2s 756us/step - loss: 1.1800 - accuracy: 0.6021 - val_loss: 1.1769 - val_accuracy: 0.5958\n",
      "Epoch 69/100\n",
      "2077/2077 [==============================] - 2s 764us/step - loss: 1.1776 - accuracy: 0.6021 - val_loss: 1.2095 - val_accuracy: 0.5958\n",
      "Epoch 70/100\n",
      "2077/2077 [==============================] - 2s 795us/step - loss: 1.1781 - accuracy: 0.6021 - val_loss: 1.1830 - val_accuracy: 0.5958\n",
      "Epoch 71/100\n",
      "2077/2077 [==============================] - 2s 852us/step - loss: 1.1779 - accuracy: 0.6021 - val_loss: 1.1767 - val_accuracy: 0.5958\n",
      "Epoch 72/100\n",
      "2077/2077 [==============================] - 2s 862us/step - loss: 1.1794 - accuracy: 0.6021 - val_loss: 1.1762 - val_accuracy: 0.5958\n",
      "Epoch 73/100\n",
      "2077/2077 [==============================] - 2s 844us/step - loss: 1.1780 - accuracy: 0.6021 - val_loss: 1.1735 - val_accuracy: 0.5958\n",
      "Epoch 74/100\n",
      "2077/2077 [==============================] - 2s 839us/step - loss: 1.1780 - accuracy: 0.6021 - val_loss: 1.1751 - val_accuracy: 0.5958\n",
      "Epoch 75/100\n",
      "2077/2077 [==============================] - 2s 864us/step - loss: 1.1784 - accuracy: 0.6021 - val_loss: 1.1738 - val_accuracy: 0.5958\n",
      "Epoch 76/100\n",
      "2077/2077 [==============================] - 2s 853us/step - loss: 1.1787 - accuracy: 0.6021 - val_loss: 1.1772 - val_accuracy: 0.5958\n",
      "Epoch 77/100\n",
      "2077/2077 [==============================] - 2s 834us/step - loss: 1.1784 - accuracy: 0.6021 - val_loss: 1.1762 - val_accuracy: 0.5958\n",
      "Epoch 78/100\n",
      "2077/2077 [==============================] - 2s 883us/step - loss: 1.1791 - accuracy: 0.6021 - val_loss: 1.1769 - val_accuracy: 0.5958\n",
      "Epoch 79/100\n",
      "2077/2077 [==============================] - 2s 852us/step - loss: 1.1793 - accuracy: 0.6021 - val_loss: 1.1736 - val_accuracy: 0.5958\n",
      "Epoch 80/100\n",
      "2077/2077 [==============================] - 2s 833us/step - loss: 1.1788 - accuracy: 0.6021 - val_loss: 1.1809 - val_accuracy: 0.5958\n",
      "Epoch 81/100\n",
      "2077/2077 [==============================] - 2s 740us/step - loss: 1.1780 - accuracy: 0.6021 - val_loss: 1.1751 - val_accuracy: 0.5958\n",
      "Epoch 82/100\n",
      "2077/2077 [==============================] - 1s 701us/step - loss: 1.1793 - accuracy: 0.6021 - val_loss: 1.1803 - val_accuracy: 0.5958\n",
      "Epoch 83/100\n",
      "2077/2077 [==============================] - 1s 708us/step - loss: 1.1796 - accuracy: 0.6021 - val_loss: 1.1861 - val_accuracy: 0.5958\n",
      "Epoch 84/100\n",
      "2077/2077 [==============================] - 2s 726us/step - loss: 1.1782 - accuracy: 0.6021 - val_loss: 1.1739 - val_accuracy: 0.5958\n",
      "Epoch 85/100\n",
      "2077/2077 [==============================] - 2s 729us/step - loss: 1.1788 - accuracy: 0.6021 - val_loss: 1.1842 - val_accuracy: 0.5958\n",
      "Epoch 86/100\n",
      "2077/2077 [==============================] - 1s 709us/step - loss: 1.1784 - accuracy: 0.6021 - val_loss: 1.1776 - val_accuracy: 0.5958\n",
      "Epoch 87/100\n",
      "2077/2077 [==============================] - 1s 717us/step - loss: 1.1792 - accuracy: 0.6021 - val_loss: 1.1780 - val_accuracy: 0.5958\n",
      "Epoch 88/100\n",
      "2077/2077 [==============================] - 2s 731us/step - loss: 1.1802 - accuracy: 0.6021 - val_loss: 1.1830 - val_accuracy: 0.5958\n",
      "Epoch 89/100\n",
      "2077/2077 [==============================] - 1s 719us/step - loss: 1.1785 - accuracy: 0.6021 - val_loss: 1.1751 - val_accuracy: 0.5958\n",
      "Epoch 90/100\n",
      "2077/2077 [==============================] - 2s 752us/step - loss: 1.1797 - accuracy: 0.6021 - val_loss: 1.1915 - val_accuracy: 0.5958\n",
      "Epoch 91/100\n",
      "2077/2077 [==============================] - 2s 725us/step - loss: 1.1791 - accuracy: 0.6021 - val_loss: 1.1939 - val_accuracy: 0.5958\n",
      "Epoch 92/100\n",
      "2077/2077 [==============================] - 2s 733us/step - loss: 1.1788 - accuracy: 0.6021 - val_loss: 1.1785 - val_accuracy: 0.5958\n",
      "Epoch 93/100\n",
      "2077/2077 [==============================] - 1s 708us/step - loss: 1.1783 - accuracy: 0.6021 - val_loss: 1.1772 - val_accuracy: 0.5958\n",
      "Epoch 94/100\n",
      "2077/2077 [==============================] - 1s 687us/step - loss: 1.1775 - accuracy: 0.6021 - val_loss: 1.1744 - val_accuracy: 0.5958\n",
      "Epoch 95/100\n",
      "2077/2077 [==============================] - 1s 694us/step - loss: 1.1779 - accuracy: 0.6021 - val_loss: 1.1860 - val_accuracy: 0.5958\n",
      "Epoch 96/100\n",
      "2077/2077 [==============================] - 2s 734us/step - loss: 1.1793 - accuracy: 0.6021 - val_loss: 1.1758 - val_accuracy: 0.5958\n",
      "Epoch 97/100\n",
      "2077/2077 [==============================] - 2s 727us/step - loss: 1.1784 - accuracy: 0.6021 - val_loss: 1.1792 - val_accuracy: 0.5958\n",
      "Epoch 98/100\n",
      "2077/2077 [==============================] - 2s 730us/step - loss: 1.1796 - accuracy: 0.6021 - val_loss: 1.1842 - val_accuracy: 0.5958\n",
      "Epoch 99/100\n",
      "2077/2077 [==============================] - 2s 729us/step - loss: 1.1774 - accuracy: 0.6021 - val_loss: 1.1767 - val_accuracy: 0.5958\n",
      "Epoch 100/100\n",
      "2077/2077 [==============================] - 2s 753us/step - loss: 1.1789 - accuracy: 0.6021 - val_loss: 1.1751 - val_accuracy: 0.5958\n",
      "65/65 [==============================] - 0s 456us/step\n"
     ]
    }
   ],
   "source": [
    "model_history=model.fit(x=X_train, y=y_train, epochs=100, batch_size=4, validation_data= (X_test, y_test))\n",
    "y_pred = model.predict(X_test)\n",
    "\n",
    "y_test_class = np.argmax(y_test, axis=1)\n",
    "y_pred_class = np.argmax(y_pred, axis=1)"
   ]
  },
  {
   "cell_type": "code",
   "execution_count": 10,
   "id": "770153f6",
   "metadata": {},
   "outputs": [
    {
     "name": "stdout",
     "output_type": "stream",
     "text": [
      "              precision    recall  f1-score   support\n",
      "\n",
      "           1       0.60      1.00      0.75      1238\n",
      "           3       0.00      0.00      0.00        39\n",
      "           4       0.00      0.00      0.00         1\n",
      "           5       0.00      0.00      0.00         7\n",
      "           6       0.00      0.00      0.00       286\n",
      "           7       0.00      0.00      0.00       299\n",
      "           8       0.00      0.00      0.00       208\n",
      "\n",
      "    accuracy                           0.60      2078\n",
      "   macro avg       0.09      0.14      0.11      2078\n",
      "weighted avg       0.35      0.60      0.44      2078\n",
      "\n",
      "[[1238    0    0    0    0    0    0]\n",
      " [  39    0    0    0    0    0    0]\n",
      " [   1    0    0    0    0    0    0]\n",
      " [   7    0    0    0    0    0    0]\n",
      " [ 286    0    0    0    0    0    0]\n",
      " [ 299    0    0    0    0    0    0]\n",
      " [ 208    0    0    0    0    0    0]]\n"
     ]
    },
    {
     "name": "stderr",
     "output_type": "stream",
     "text": [
      "/Users/yes/opt/anaconda3/envs/aiclass/lib/python3.8/site-packages/sklearn/metrics/_classification.py:1344: UndefinedMetricWarning: Precision and F-score are ill-defined and being set to 0.0 in labels with no predicted samples. Use `zero_division` parameter to control this behavior.\n",
      "  _warn_prf(average, modifier, msg_start, len(result))\n",
      "/Users/yes/opt/anaconda3/envs/aiclass/lib/python3.8/site-packages/sklearn/metrics/_classification.py:1344: UndefinedMetricWarning: Precision and F-score are ill-defined and being set to 0.0 in labels with no predicted samples. Use `zero_division` parameter to control this behavior.\n",
      "  _warn_prf(average, modifier, msg_start, len(result))\n",
      "/Users/yes/opt/anaconda3/envs/aiclass/lib/python3.8/site-packages/sklearn/metrics/_classification.py:1344: UndefinedMetricWarning: Precision and F-score are ill-defined and being set to 0.0 in labels with no predicted samples. Use `zero_division` parameter to control this behavior.\n",
      "  _warn_prf(average, modifier, msg_start, len(result))\n"
     ]
    }
   ],
   "source": [
    "#Accuracy of the predicted values\n",
    "from sklearn.metrics import classification_report,confusion_matrix\n",
    "print(classification_report(y_test_class,y_pred_class))\n",
    "print(confusion_matrix(y_test_class,y_pred_class))"
   ]
  },
  {
   "cell_type": "code",
   "execution_count": 11,
   "id": "91a68735",
   "metadata": {},
   "outputs": [
    {
     "data": {
      "image/png": "[encoded data removed]",
      "text/plain": [
       "<Figure size 640x480 with 1 Axes>"
      ]
     },
     "metadata": {},
     "output_type": "display_data"
    }
   ],
   "source": [
    "import matplotlib.pyplot as plt\n",
    "import seaborn as sns\n",
    "\n",
    "loss =model_history.history['loss']\n",
    "val_loss =model_history.history['val_loss']\n",
    "epochs = range(1, len(loss) + 1)\n",
    "plt.plot(epochs, loss, 'y', label='Training loss')\n",
    "plt.plot(epochs, val_loss, 'r', label='Validation loss')\n",
    "plt.title('Training and validation loss')\n",
    "plt.xlabel('Epochs')\n",
    "plt.ylabel('Loss')\n",
    "plt.legend()\n",
    "plt.show()"
   ]
  }
 ],
 "metadata": {
  "kernelspec": {
   "display_name": "Python [conda env:aiclass]",
   "language": "python",
   "name": "conda-env-aiclass-py"
  },
  "language_info": {
   "codemirror_mode": {
    "name": "ipython",
    "version": 3
   },
   "file_extension": ".py",
   "mimetype": "text/x-python",
   "name": "python",
   "nbconvert_exporter": "python",
   "pygments_lexer": "ipython3",
   "version": "3.8.16"
  }
 },
 "nbformat": 4,
 "nbformat_minor": 5
}
